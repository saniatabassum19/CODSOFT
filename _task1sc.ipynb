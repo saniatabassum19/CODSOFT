{
 "cells": [
  {
   "cell_type": "markdown",
   "id": "11fe8e24",
   "metadata": {},
   "source": []
  },
  {
   "cell_type": "code",
   "execution_count": 1,
   "id": "ef216f6d-273a-4316-a808-554c2419e4c8",
   "metadata": {},
   "outputs": [
    {
     "name": "stdout",
     "output_type": "stream",
     "text": [
      "Select operation.\n",
      "1.Add\n",
      "2.Subtract\n",
      "3.Multiply\n",
      "4.Divide\n",
      "19.0 + 1.0 = 20.0\n"
     ]
    }
   ],
   "source": [
    "# This function adds two numbers\n",
    "def add(x, y):\n",
    " return x + y\n",
    "# This function subtracts two numbers\n",
    "def subtract(x, y):\n",
    " return x - y\n",
    "# This function multiplies two numbers\n",
    "def multiply(x, y):\n",
    " return x * y\n",
    "# This function divides two numbers\n",
    "def divide(x, y):\n",
    " return x / y\n",
    "print(\"Select operation.\")\n",
    "print(\"1.Add\")\n",
    "print(\"2.Subtract\")\n",
    "print(\"3.Multiply\")\n",
    "print(\"4.Divide\")\n",
    "while True:\n",
    "# Take input from the user\n",
    " choice = input(\"Enter choice(1/2/3/4): \")\n",
    "# Check if choice is one of the four options\n",
    " if choice in ('1', '2', '3', '4'):\n",
    "  num1 = float(input(\"Enter first number: \"))\n",
    "  num2 = float(input(\"Enter second number: \"))\n",
    " if choice == '1':\n",
    "  print(num1, \"+\", num2, \"=\", add(num1, num2))\n",
    " elif choice == '2':\n",
    "  print(num1, \"-\", num2, \"=\", subtract(num1, num2))\n",
    " elif choice == '3':\n",
    "  print(num1, \"*\", num2, \"=\", multiply(num1, num2))\n",
    " elif choice == '4':\n",
    "  print(num1, \"/\", num2, \"=\", divide(num1, num2))\n",
    "  break\n",
    "else:\n",
    "  print(\"Invalid Input\")"
   ]
  },
  {
   "cell_type": "markdown",
   "id": "6bcfd57d-dd2a-4554-93fe-c1b544a544cd",
   "metadata": {},
   "source": []
  }
 ],
 "metadata": {
  "kernelspec": {
   "display_name": "Python 3 (ipykernel)",
   "language": "python",
   "name": "python3"
  },
  "language_info": {
   "codemirror_mode": {
    "name": "ipython",
    "version": 3
   },
   "file_extension": ".py",
   "mimetype": "text/x-python",
   "name": "python",
   "nbconvert_exporter": "python",
   "pygments_lexer": "ipython3",
   "version": "3.12.3"
  }
 },
 "nbformat": 4,
 "nbformat_minor": 5
}
